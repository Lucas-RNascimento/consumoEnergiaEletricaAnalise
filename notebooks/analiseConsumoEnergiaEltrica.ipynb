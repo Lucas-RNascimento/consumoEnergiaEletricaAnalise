{
 "cells": [
  {
   "cell_type": "code",
   "execution_count": null,
   "id": "04bd125e",
   "metadata": {},
   "outputs": [],
   "source": [
    "#pandas\n",
    "#matplotlib\n",
    "#numpy"
   ]
  }
 ],
 "metadata": {
  "kernelspec": {
   "display_name": "ACEELETRICA",
   "language": "python",
   "name": "python3"
  },
  "language_info": {
   "name": "python",
   "version": "3.12.7"
  }
 },
 "nbformat": 4,
 "nbformat_minor": 5
}
